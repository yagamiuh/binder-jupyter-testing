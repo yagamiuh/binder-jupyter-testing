{
 "cells": [
  {
   "cell_type": "code",
   "execution_count": null,
   "id": "3207649c-0e83-4e14-8c75-e5389df71cde",
   "metadata": {},
   "outputs": [],
   "source": [
    "from onshapy import client\n",
    "client = client.OnShapeClient(client = \"\")"
   ]
  },
  {
   "cell_type": "code",
   "execution_count": null,
   "id": "eb882da0-8973-401b-b7a4-328ee52f96fc",
   "metadata": {},
   "outputs": [],
   "source": [
    "client.get(\"users/sessioninfo\")"
   ]
  },
  {
   "cell_type": "code",
   "execution_count": null,
   "id": "c8145aa3-80a9-4333-93a3-d87fcaac9968",
   "metadata": {},
   "outputs": [],
   "source": [
    "client.get(\"documents\")"
   ]
  }
 ],
 "metadata": {
  "kernelspec": {
   "display_name": "Python 3 (ipykernel)",
   "language": "python",
   "name": "python3"
  },
  "language_info": {
   "codemirror_mode": {
    "name": "ipython",
    "version": 3
   },
   "file_extension": ".py",
   "mimetype": "text/x-python",
   "name": "python",
   "nbconvert_exporter": "python",
   "pygments_lexer": "ipython3",
   "version": "3.9.12"
  }
 },
 "nbformat": 4,
 "nbformat_minor": 5
}
